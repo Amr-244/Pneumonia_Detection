{
 "cells": [
  {
   "cell_type": "code",
   "execution_count": 3,
   "id": "1a5b1f9b",
   "metadata": {
    "collapsed": true,
    "jupyter": {
     "outputs_hidden": true
    },
    "scrolled": true
   },
   "outputs": [
    {
     "name": "stdout",
     "output_type": "stream",
     "text": [
      "Defaulting to user installation because normal site-packages is not writeable\n",
      "Collecting imgaug\n",
      "  Downloading imgaug-0.4.0-py2.py3-none-any.whl.metadata (1.8 kB)\n",
      "Requirement already satisfied: six in c:\\programdata\\anaconda3\\lib\\site-packages (from imgaug) (1.16.0)\n",
      "Requirement already satisfied: numpy>=1.15 in c:\\programdata\\anaconda3\\lib\\site-packages (from imgaug) (1.26.4)\n",
      "Requirement already satisfied: scipy in c:\\programdata\\anaconda3\\lib\\site-packages (from imgaug) (1.13.1)\n",
      "Requirement already satisfied: Pillow in c:\\programdata\\anaconda3\\lib\\site-packages (from imgaug) (10.4.0)\n",
      "Requirement already satisfied: matplotlib in c:\\programdata\\anaconda3\\lib\\site-packages (from imgaug) (3.9.2)\n",
      "Requirement already satisfied: scikit-image>=0.14.2 in c:\\programdata\\anaconda3\\lib\\site-packages (from imgaug) (0.24.0)\n",
      "Collecting opencv-python (from imgaug)\n",
      "  Downloading opencv_python-4.11.0.86-cp37-abi3-win_amd64.whl.metadata (20 kB)\n",
      "Requirement already satisfied: imageio in c:\\programdata\\anaconda3\\lib\\site-packages (from imgaug) (2.33.1)\n",
      "Collecting Shapely (from imgaug)\n",
      "  Downloading shapely-2.0.6-cp312-cp312-win_amd64.whl.metadata (7.2 kB)\n",
      "Requirement already satisfied: networkx>=2.8 in c:\\programdata\\anaconda3\\lib\\site-packages (from scikit-image>=0.14.2->imgaug) (3.3)\n",
      "Requirement already satisfied: tifffile>=2022.8.12 in c:\\programdata\\anaconda3\\lib\\site-packages (from scikit-image>=0.14.2->imgaug) (2023.4.12)\n",
      "Requirement already satisfied: packaging>=21 in c:\\programdata\\anaconda3\\lib\\site-packages (from scikit-image>=0.14.2->imgaug) (24.1)\n",
      "Requirement already satisfied: lazy-loader>=0.4 in c:\\programdata\\anaconda3\\lib\\site-packages (from scikit-image>=0.14.2->imgaug) (0.4)\n",
      "Requirement already satisfied: contourpy>=1.0.1 in c:\\programdata\\anaconda3\\lib\\site-packages (from matplotlib->imgaug) (1.2.0)\n",
      "Requirement already satisfied: cycler>=0.10 in c:\\programdata\\anaconda3\\lib\\site-packages (from matplotlib->imgaug) (0.11.0)\n",
      "Requirement already satisfied: fonttools>=4.22.0 in c:\\programdata\\anaconda3\\lib\\site-packages (from matplotlib->imgaug) (4.51.0)\n",
      "Requirement already satisfied: kiwisolver>=1.3.1 in c:\\programdata\\anaconda3\\lib\\site-packages (from matplotlib->imgaug) (1.4.4)\n",
      "Requirement already satisfied: pyparsing>=2.3.1 in c:\\programdata\\anaconda3\\lib\\site-packages (from matplotlib->imgaug) (3.1.2)\n",
      "Requirement already satisfied: python-dateutil>=2.7 in c:\\programdata\\anaconda3\\lib\\site-packages (from matplotlib->imgaug) (2.9.0.post0)\n",
      "Downloading imgaug-0.4.0-py2.py3-none-any.whl (948 kB)\n",
      "   ---------------------------------------- 0.0/948.0 kB ? eta -:--:--\n",
      "   ----------- ---------------------------- 262.1/948.0 kB ? eta -:--:--\n",
      "   ---------------------------------------- 948.0/948.0 kB 3.4 MB/s eta 0:00:00\n",
      "Downloading opencv_python-4.11.0.86-cp37-abi3-win_amd64.whl (39.5 MB)\n",
      "   ---------------------------------------- 0.0/39.5 MB ? eta -:--:--\n",
      "   ---------------------------------------- 0.3/39.5 MB ? eta -:--:--\n",
      "   - -------------------------------------- 1.3/39.5 MB 3.5 MB/s eta 0:00:11\n",
      "   -- ------------------------------------- 2.1/39.5 MB 3.8 MB/s eta 0:00:10\n",
      "   -- ------------------------------------- 2.6/39.5 MB 3.9 MB/s eta 0:00:10\n",
      "   --- ------------------------------------ 3.7/39.5 MB 3.8 MB/s eta 0:00:10\n",
      "   ---- ----------------------------------- 4.5/39.5 MB 3.8 MB/s eta 0:00:10\n",
      "   ----- ---------------------------------- 5.2/39.5 MB 3.8 MB/s eta 0:00:10\n",
      "   ----- ---------------------------------- 5.8/39.5 MB 3.7 MB/s eta 0:00:10\n",
      "   ------ --------------------------------- 6.3/39.5 MB 3.5 MB/s eta 0:00:10\n",
      "   ------ --------------------------------- 6.8/39.5 MB 3.4 MB/s eta 0:00:10\n",
      "   ------- -------------------------------- 7.6/39.5 MB 3.4 MB/s eta 0:00:10\n",
      "   -------- ------------------------------- 8.1/39.5 MB 3.4 MB/s eta 0:00:10\n",
      "   -------- ------------------------------- 8.7/39.5 MB 3.3 MB/s eta 0:00:10\n",
      "   --------- ------------------------------ 9.2/39.5 MB 3.3 MB/s eta 0:00:10\n",
      "   ---------- ----------------------------- 10.0/39.5 MB 3.3 MB/s eta 0:00:09\n",
      "   ---------- ----------------------------- 10.5/39.5 MB 3.3 MB/s eta 0:00:09\n",
      "   ----------- ---------------------------- 11.0/39.5 MB 3.2 MB/s eta 0:00:09\n",
      "   ----------- ---------------------------- 11.5/39.5 MB 3.2 MB/s eta 0:00:09\n",
      "   ----------- ---------------------------- 11.8/39.5 MB 3.1 MB/s eta 0:00:09\n",
      "   ------------ --------------------------- 12.3/39.5 MB 3.0 MB/s eta 0:00:10\n",
      "   ------------ --------------------------- 12.6/39.5 MB 3.0 MB/s eta 0:00:10\n",
      "   ------------- -------------------------- 12.8/39.5 MB 2.9 MB/s eta 0:00:10\n",
      "   ------------- -------------------------- 13.1/39.5 MB 2.8 MB/s eta 0:00:10\n",
      "   ------------- -------------------------- 13.4/39.5 MB 2.8 MB/s eta 0:00:10\n",
      "   ------------- -------------------------- 13.6/39.5 MB 2.7 MB/s eta 0:00:10\n",
      "   -------------- ------------------------- 13.9/39.5 MB 2.7 MB/s eta 0:00:10\n",
      "   -------------- ------------------------- 14.4/39.5 MB 2.6 MB/s eta 0:00:10\n",
      "   -------------- ------------------------- 14.7/39.5 MB 2.5 MB/s eta 0:00:10\n",
      "   --------------- ------------------------ 14.9/39.5 MB 2.5 MB/s eta 0:00:10\n",
      "   --------------- ------------------------ 15.2/39.5 MB 2.4 MB/s eta 0:00:10\n",
      "   --------------- ------------------------ 15.2/39.5 MB 2.4 MB/s eta 0:00:10\n",
      "   --------------- ------------------------ 15.5/39.5 MB 2.3 MB/s eta 0:00:11\n",
      "   --------------- ------------------------ 15.5/39.5 MB 2.3 MB/s eta 0:00:11\n",
      "   --------------- ------------------------ 15.7/39.5 MB 2.3 MB/s eta 0:00:11\n",
      "   ---------------- ----------------------- 16.0/39.5 MB 2.2 MB/s eta 0:00:11\n",
      "   ---------------- ----------------------- 16.3/39.5 MB 2.2 MB/s eta 0:00:11\n",
      "   ---------------- ----------------------- 16.3/39.5 MB 2.2 MB/s eta 0:00:11\n",
      "   ---------------- ----------------------- 16.5/39.5 MB 2.1 MB/s eta 0:00:11\n",
      "   ---------------- ----------------------- 16.8/39.5 MB 2.1 MB/s eta 0:00:11\n",
      "   ----------------- ---------------------- 17.0/39.5 MB 2.0 MB/s eta 0:00:11\n",
      "   ----------------- ---------------------- 17.0/39.5 MB 2.0 MB/s eta 0:00:11\n",
      "   ----------------- ---------------------- 17.3/39.5 MB 2.0 MB/s eta 0:00:12\n",
      "   ----------------- ---------------------- 17.6/39.5 MB 2.0 MB/s eta 0:00:12\n",
      "   ----------------- ---------------------- 17.6/39.5 MB 2.0 MB/s eta 0:00:12\n",
      "   ------------------ --------------------- 17.8/39.5 MB 1.9 MB/s eta 0:00:12\n",
      "   ------------------ --------------------- 18.1/39.5 MB 1.9 MB/s eta 0:00:12\n",
      "   ------------------ --------------------- 18.4/39.5 MB 1.9 MB/s eta 0:00:12\n",
      "   ------------------ --------------------- 18.6/39.5 MB 1.9 MB/s eta 0:00:12\n",
      "   ------------------ --------------------- 18.6/39.5 MB 1.9 MB/s eta 0:00:12\n",
      "   ------------------- -------------------- 18.9/39.5 MB 1.8 MB/s eta 0:00:12\n",
      "   ------------------- -------------------- 18.9/39.5 MB 1.8 MB/s eta 0:00:12\n",
      "   ------------------- -------------------- 19.1/39.5 MB 1.8 MB/s eta 0:00:12\n",
      "   ------------------- -------------------- 19.1/39.5 MB 1.8 MB/s eta 0:00:12\n",
      "   ------------------- -------------------- 19.1/39.5 MB 1.8 MB/s eta 0:00:12\n",
      "   ------------------- -------------------- 19.4/39.5 MB 1.7 MB/s eta 0:00:12\n",
      "   ------------------- -------------------- 19.4/39.5 MB 1.7 MB/s eta 0:00:12\n",
      "   ------------------- -------------------- 19.7/39.5 MB 1.7 MB/s eta 0:00:12\n",
      "   ------------------- -------------------- 19.7/39.5 MB 1.7 MB/s eta 0:00:12\n",
      "   -------------------- ------------------- 19.9/39.5 MB 1.6 MB/s eta 0:00:12\n",
      "   -------------------- ------------------- 20.2/39.5 MB 1.6 MB/s eta 0:00:12\n",
      "   -------------------- ------------------- 20.4/39.5 MB 1.6 MB/s eta 0:00:12\n",
      "   -------------------- ------------------- 20.4/39.5 MB 1.6 MB/s eta 0:00:12\n",
      "   -------------------- ------------------- 20.7/39.5 MB 1.6 MB/s eta 0:00:12\n",
      "   -------------------- ------------------- 20.7/39.5 MB 1.6 MB/s eta 0:00:12\n",
      "   --------------------- ------------------ 21.0/39.5 MB 1.6 MB/s eta 0:00:12\n",
      "   --------------------- ------------------ 21.0/39.5 MB 1.6 MB/s eta 0:00:12\n",
      "   --------------------- ------------------ 21.2/39.5 MB 1.5 MB/s eta 0:00:12\n",
      "   --------------------- ------------------ 21.2/39.5 MB 1.5 MB/s eta 0:00:12\n",
      "   --------------------- ------------------ 21.5/39.5 MB 1.5 MB/s eta 0:00:12\n",
      "   --------------------- ------------------ 21.5/39.5 MB 1.5 MB/s eta 0:00:12\n",
      "   ---------------------- ----------------- 21.8/39.5 MB 1.5 MB/s eta 0:00:12\n",
      "   ---------------------- ----------------- 22.0/39.5 MB 1.5 MB/s eta 0:00:12\n",
      "   ---------------------- ----------------- 22.3/39.5 MB 1.5 MB/s eta 0:00:12\n",
      "   ---------------------- ----------------- 22.5/39.5 MB 1.5 MB/s eta 0:00:12\n",
      "   ---------------------- ----------------- 22.5/39.5 MB 1.5 MB/s eta 0:00:12\n",
      "   ---------------------- ----------------- 22.5/39.5 MB 1.5 MB/s eta 0:00:12\n",
      "   ----------------------- ---------------- 22.8/39.5 MB 1.4 MB/s eta 0:00:12\n",
      "   ----------------------- ---------------- 22.8/39.5 MB 1.4 MB/s eta 0:00:12\n",
      "   ----------------------- ---------------- 23.1/39.5 MB 1.4 MB/s eta 0:00:12\n",
      "   ----------------------- ---------------- 23.1/39.5 MB 1.4 MB/s eta 0:00:12\n",
      "   ----------------------- ---------------- 23.1/39.5 MB 1.4 MB/s eta 0:00:12\n",
      "   ----------------------- ---------------- 23.3/39.5 MB 1.4 MB/s eta 0:00:12\n",
      "   ----------------------- ---------------- 23.3/39.5 MB 1.4 MB/s eta 0:00:12\n",
      "   ----------------------- ---------------- 23.6/39.5 MB 1.4 MB/s eta 0:00:12\n",
      "   ------------------------ --------------- 23.9/39.5 MB 1.3 MB/s eta 0:00:12\n",
      "   ------------------------ --------------- 23.9/39.5 MB 1.3 MB/s eta 0:00:12\n",
      "   ------------------------ --------------- 24.1/39.5 MB 1.3 MB/s eta 0:00:12\n",
      "   ------------------------ --------------- 24.4/39.5 MB 1.3 MB/s eta 0:00:12\n",
      "   ------------------------ --------------- 24.4/39.5 MB 1.3 MB/s eta 0:00:12\n",
      "   ------------------------ --------------- 24.6/39.5 MB 1.3 MB/s eta 0:00:12\n",
      "   ------------------------- -------------- 24.9/39.5 MB 1.3 MB/s eta 0:00:12\n",
      "   ------------------------- -------------- 25.2/39.5 MB 1.3 MB/s eta 0:00:11\n",
      "   ------------------------- -------------- 25.2/39.5 MB 1.3 MB/s eta 0:00:11\n",
      "   ------------------------- -------------- 25.2/39.5 MB 1.3 MB/s eta 0:00:11\n",
      "   ------------------------- -------------- 25.4/39.5 MB 1.3 MB/s eta 0:00:11\n",
      "   ------------------------- -------------- 25.4/39.5 MB 1.3 MB/s eta 0:00:11\n",
      "   ------------------------- -------------- 25.4/39.5 MB 1.3 MB/s eta 0:00:11\n",
      "   -------------------------- ------------- 25.7/39.5 MB 1.3 MB/s eta 0:00:11\n",
      "   -------------------------- ------------- 25.7/39.5 MB 1.3 MB/s eta 0:00:11\n",
      "   -------------------------- ------------- 26.0/39.5 MB 1.3 MB/s eta 0:00:11\n",
      "   -------------------------- ------------- 26.0/39.5 MB 1.3 MB/s eta 0:00:11\n",
      "   -------------------------- ------------- 26.2/39.5 MB 1.2 MB/s eta 0:00:11\n",
      "   -------------------------- ------------- 26.2/39.5 MB 1.2 MB/s eta 0:00:11\n",
      "   -------------------------- ------------- 26.2/39.5 MB 1.2 MB/s eta 0:00:11\n",
      "   -------------------------- ------------- 26.5/39.5 MB 1.2 MB/s eta 0:00:11\n",
      "   -------------------------- ------------- 26.5/39.5 MB 1.2 MB/s eta 0:00:11\n",
      "   --------------------------- ------------ 26.7/39.5 MB 1.2 MB/s eta 0:00:11\n",
      "   --------------------------- ------------ 26.7/39.5 MB 1.2 MB/s eta 0:00:11\n",
      "   --------------------------- ------------ 27.0/39.5 MB 1.2 MB/s eta 0:00:11\n",
      "   --------------------------- ------------ 27.0/39.5 MB 1.2 MB/s eta 0:00:11\n",
      "   --------------------------- ------------ 27.0/39.5 MB 1.2 MB/s eta 0:00:11\n",
      "   --------------------------- ------------ 27.0/39.5 MB 1.2 MB/s eta 0:00:11\n",
      "   --------------------------- ------------ 27.3/39.5 MB 1.2 MB/s eta 0:00:11\n",
      "   --------------------------- ------------ 27.3/39.5 MB 1.2 MB/s eta 0:00:11\n",
      "   --------------------------- ------------ 27.3/39.5 MB 1.2 MB/s eta 0:00:11\n",
      "   --------------------------- ------------ 27.5/39.5 MB 1.1 MB/s eta 0:00:11\n",
      "   --------------------------- ------------ 27.5/39.5 MB 1.1 MB/s eta 0:00:11\n",
      "   ---------------------------- ----------- 27.8/39.5 MB 1.1 MB/s eta 0:00:11\n",
      "   ---------------------------- ----------- 27.8/39.5 MB 1.1 MB/s eta 0:00:11\n",
      "   ---------------------------- ----------- 28.0/39.5 MB 1.1 MB/s eta 0:00:11\n",
      "   ---------------------------- ----------- 28.0/39.5 MB 1.1 MB/s eta 0:00:11\n",
      "   ---------------------------- ----------- 28.3/39.5 MB 1.1 MB/s eta 0:00:10\n",
      "   ---------------------------- ----------- 28.6/39.5 MB 1.1 MB/s eta 0:00:10\n",
      "   ---------------------------- ----------- 28.6/39.5 MB 1.1 MB/s eta 0:00:10\n",
      "   ----------------------------- ---------- 28.8/39.5 MB 1.1 MB/s eta 0:00:10\n",
      "   ----------------------------- ---------- 28.8/39.5 MB 1.1 MB/s eta 0:00:10\n",
      "   ----------------------------- ---------- 29.1/39.5 MB 1.1 MB/s eta 0:00:10\n",
      "   ----------------------------- ---------- 29.1/39.5 MB 1.1 MB/s eta 0:00:10\n",
      "   ----------------------------- ---------- 29.4/39.5 MB 1.1 MB/s eta 0:00:10\n",
      "   ------------------------------ --------- 29.6/39.5 MB 1.1 MB/s eta 0:00:10\n",
      "   ------------------------------ --------- 29.6/39.5 MB 1.1 MB/s eta 0:00:10\n",
      "   ------------------------------ --------- 29.9/39.5 MB 1.1 MB/s eta 0:00:09\n",
      "   ------------------------------ --------- 30.1/39.5 MB 1.1 MB/s eta 0:00:09\n",
      "   ------------------------------ --------- 30.1/39.5 MB 1.1 MB/s eta 0:00:09\n",
      "   ------------------------------ --------- 30.4/39.5 MB 1.1 MB/s eta 0:00:09\n",
      "   ------------------------------- -------- 30.7/39.5 MB 1.1 MB/s eta 0:00:09\n",
      "   ------------------------------- -------- 30.9/39.5 MB 1.1 MB/s eta 0:00:08\n",
      "   ------------------------------- -------- 30.9/39.5 MB 1.1 MB/s eta 0:00:08\n",
      "   ------------------------------- -------- 31.2/39.5 MB 1.1 MB/s eta 0:00:08\n",
      "   ------------------------------- -------- 31.5/39.5 MB 1.1 MB/s eta 0:00:08\n",
      "   -------------------------------- ------- 31.7/39.5 MB 1.1 MB/s eta 0:00:08\n",
      "   -------------------------------- ------- 32.2/39.5 MB 1.1 MB/s eta 0:00:07\n",
      "   -------------------------------- ------- 32.2/39.5 MB 1.1 MB/s eta 0:00:07\n",
      "   -------------------------------- ------- 32.5/39.5 MB 1.1 MB/s eta 0:00:07\n",
      "   --------------------------------- ------ 32.8/39.5 MB 1.1 MB/s eta 0:00:07\n",
      "   --------------------------------- ------ 33.0/39.5 MB 1.1 MB/s eta 0:00:06\n",
      "   --------------------------------- ------ 33.3/39.5 MB 1.1 MB/s eta 0:00:06\n",
      "   --------------------------------- ------ 33.6/39.5 MB 1.0 MB/s eta 0:00:06\n",
      "   ---------------------------------- ----- 33.8/39.5 MB 1.0 MB/s eta 0:00:06\n",
      "   ---------------------------------- ----- 34.1/39.5 MB 997.2 kB/s eta 0:00:06\n",
      "   ---------------------------------- ----- 34.3/39.5 MB 987.4 kB/s eta 0:00:06\n",
      "   ----------------------------------- ---- 34.6/39.5 MB 970.4 kB/s eta 0:00:06\n",
      "   ----------------------------------- ---- 34.9/39.5 MB 961.2 kB/s eta 0:00:05\n",
      "   ----------------------------------- ---- 35.1/39.5 MB 954.4 kB/s eta 0:00:05\n",
      "   ------------------------------------ --- 35.7/39.5 MB 937.4 kB/s eta 0:00:05\n",
      "   ------------------------------------ --- 35.9/39.5 MB 928.2 kB/s eta 0:00:04\n",
      "   ------------------------------------ --- 36.2/39.5 MB 918.5 kB/s eta 0:00:04\n",
      "   ------------------------------------ --- 36.2/39.5 MB 918.5 kB/s eta 0:00:04\n",
      "   ------------------------------------ --- 36.4/39.5 MB 900.5 kB/s eta 0:00:04\n",
      "   ------------------------------------- -- 37.0/39.5 MB 883.0 kB/s eta 0:00:03\n",
      "   ------------------------------------- -- 37.2/39.5 MB 875.7 kB/s eta 0:00:03\n",
      "   ------------------------------------- -- 37.5/39.5 MB 873.8 kB/s eta 0:00:03\n",
      "   -------------------------------------- - 37.7/39.5 MB 867.8 kB/s eta 0:00:03\n",
      "   -------------------------------------- - 38.3/39.5 MB 867.8 kB/s eta 0:00:02\n",
      "   ---------------------------------------  38.5/39.5 MB 867.8 kB/s eta 0:00:02\n",
      "   ---------------------------------------  39.1/39.5 MB 874.2 kB/s eta 0:00:01\n",
      "   ---------------------------------------  39.3/39.5 MB 875.2 kB/s eta 0:00:01\n",
      "   ---------------------------------------- 39.5/39.5 MB 874.3 kB/s eta 0:00:00\n",
      "Downloading shapely-2.0.6-cp312-cp312-win_amd64.whl (1.4 MB)\n",
      "   ---------------------------------------- 0.0/1.4 MB ? eta -:--:--\n",
      "   ------- -------------------------------- 0.3/1.4 MB ? eta -:--:--\n",
      "   -------------- ------------------------- 0.5/1.4 MB 1.7 MB/s eta 0:00:01\n",
      "   --------------------- ------------------ 0.8/1.4 MB 1.5 MB/s eta 0:00:01\n",
      "   ------------------------------------ --- 1.3/1.4 MB 1.5 MB/s eta 0:00:01\n",
      "   ---------------------------------------- 1.4/1.4 MB 1.4 MB/s eta 0:00:00\n",
      "Installing collected packages: Shapely, opencv-python, imgaug\n",
      "Successfully installed Shapely-2.0.6 imgaug-0.4.0 opencv-python-4.11.0.86\n",
      "Note: you may need to restart the kernel to use updated packages.\n"
     ]
    }
   ],
   "source": [
    "pip install imgaug"
   ]
  },
  {
   "cell_type": "code",
   "execution_count": 17,
   "id": "f60ff3d9-a926-4af8-9ed5-a7d2845b4c7e",
   "metadata": {
    "collapsed": true,
    "jupyter": {
     "outputs_hidden": true
    },
    "scrolled": true
   },
   "outputs": [
    {
     "name": "stdout",
     "output_type": "stream",
     "text": [
      "Defaulting to user installation because normal site-packages is not writeable\n",
      "Requirement already satisfied: imgaug==0.4.0 in c:\\users\\amr aleskndrany\\appdata\\roaming\\python\\python312\\site-packages (0.4.0)\n",
      "Requirement already satisfied: six in c:\\programdata\\anaconda3\\lib\\site-packages (from imgaug==0.4.0) (1.16.0)\n",
      "Requirement already satisfied: numpy>=1.15 in c:\\programdata\\anaconda3\\lib\\site-packages (from imgaug==0.4.0) (1.26.4)\n",
      "Requirement already satisfied: scipy in c:\\programdata\\anaconda3\\lib\\site-packages (from imgaug==0.4.0) (1.13.1)\n",
      "Requirement already satisfied: Pillow in c:\\programdata\\anaconda3\\lib\\site-packages (from imgaug==0.4.0) (10.4.0)\n",
      "Requirement already satisfied: matplotlib in c:\\programdata\\anaconda3\\lib\\site-packages (from imgaug==0.4.0) (3.9.2)\n",
      "Requirement already satisfied: scikit-image>=0.14.2 in c:\\programdata\\anaconda3\\lib\\site-packages (from imgaug==0.4.0) (0.24.0)\n",
      "Requirement already satisfied: opencv-python in c:\\users\\amr aleskndrany\\appdata\\roaming\\python\\python312\\site-packages (from imgaug==0.4.0) (4.11.0.86)\n",
      "Requirement already satisfied: imageio in c:\\programdata\\anaconda3\\lib\\site-packages (from imgaug==0.4.0) (2.33.1)\n",
      "Requirement already satisfied: Shapely in c:\\users\\amr aleskndrany\\appdata\\roaming\\python\\python312\\site-packages (from imgaug==0.4.0) (2.0.6)\n",
      "Requirement already satisfied: networkx>=2.8 in c:\\programdata\\anaconda3\\lib\\site-packages (from scikit-image>=0.14.2->imgaug==0.4.0) (3.3)\n",
      "Requirement already satisfied: tifffile>=2022.8.12 in c:\\programdata\\anaconda3\\lib\\site-packages (from scikit-image>=0.14.2->imgaug==0.4.0) (2023.4.12)\n",
      "Requirement already satisfied: packaging>=21 in c:\\programdata\\anaconda3\\lib\\site-packages (from scikit-image>=0.14.2->imgaug==0.4.0) (24.1)\n",
      "Requirement already satisfied: lazy-loader>=0.4 in c:\\programdata\\anaconda3\\lib\\site-packages (from scikit-image>=0.14.2->imgaug==0.4.0) (0.4)\n",
      "Requirement already satisfied: contourpy>=1.0.1 in c:\\programdata\\anaconda3\\lib\\site-packages (from matplotlib->imgaug==0.4.0) (1.2.0)\n",
      "Requirement already satisfied: cycler>=0.10 in c:\\programdata\\anaconda3\\lib\\site-packages (from matplotlib->imgaug==0.4.0) (0.11.0)\n",
      "Requirement already satisfied: fonttools>=4.22.0 in c:\\programdata\\anaconda3\\lib\\site-packages (from matplotlib->imgaug==0.4.0) (4.51.0)\n",
      "Requirement already satisfied: kiwisolver>=1.3.1 in c:\\programdata\\anaconda3\\lib\\site-packages (from matplotlib->imgaug==0.4.0) (1.4.4)\n",
      "Requirement already satisfied: pyparsing>=2.3.1 in c:\\programdata\\anaconda3\\lib\\site-packages (from matplotlib->imgaug==0.4.0) (3.1.2)\n",
      "Requirement already satisfied: python-dateutil>=2.7 in c:\\programdata\\anaconda3\\lib\\site-packages (from matplotlib->imgaug==0.4.0) (2.9.0.post0)\n",
      "Note: you may need to restart the kernel to use updated packages.\n"
     ]
    }
   ],
   "source": [
    "pip install imgaug==0.4.0"
   ]
  },
  {
   "cell_type": "code",
   "execution_count": 21,
   "id": "06f146bc-b02b-4bec-84af-ba1aab061b04",
   "metadata": {},
   "outputs": [
    {
     "ename": "SyntaxError",
     "evalue": "invalid syntax (629497118.py, line 1)",
     "output_type": "error",
     "traceback": [
      "\u001b[1;36m  Cell \u001b[1;32mIn[21], line 1\u001b[1;36m\u001b[0m\n\u001b[1;33m    python -m pip install --upgrade pip\u001b[0m\n\u001b[1;37m              ^\u001b[0m\n\u001b[1;31mSyntaxError\u001b[0m\u001b[1;31m:\u001b[0m invalid syntax\n"
     ]
    }
   ],
   "source": [
    "python -m pip install --upgrade pip"
   ]
  },
  {
   "cell_type": "code",
   "execution_count": 1,
   "id": "4a95a4a6",
   "metadata": {
    "scrolled": true
   },
   "outputs": [],
   "source": [
    "import imgaug as ia\n",
    "import imgaug.augmenters as iaa\n",
    "import numpy as np\n",
    "import cv2\n",
    "import os"
   ]
  },
  {
   "cell_type": "code",
   "execution_count": 3,
   "id": "dca94d23",
   "metadata": {},
   "outputs": [],
   "source": [
    "def load_images_from_folder(folder):\n",
    "    images = []\n",
    "    for filename in os.listdir(folder):\n",
    "        img = cv2.imread(os.path.join(folder, filename))\n",
    "        if img is not None:\n",
    "            images.append(img)\n",
    "    return images"
   ]
  },
  {
   "cell_type": "code",
   "execution_count": 5,
   "id": "42686b67",
   "metadata": {},
   "outputs": [],
   "source": [
    "def augment_images(images):\n",
    "    seq = iaa.Sequential([\n",
    "        iaa.Fliplr(0.5),  # 50% من الصور سيتم عكسها أفقيًا\n",
    "        iaa.AdditiveGaussianNoise(scale=(0, 0.1*255)),  # إضافة ضوضاء\n",
    "        iaa.Multiply((0.8, 1.2)),  # تغيير السطوع\n",
    "    ])\n",
    "    augmented_images = seq(images=images)\n",
    "    return augmented_images"
   ]
  },
  {
   "cell_type": "code",
   "execution_count": 7,
   "id": "04f68b42",
   "metadata": {},
   "outputs": [],
   "source": [
    "# مسار مجلد الصور\n",
    "folder_path = 'F:/PROJECT/archive/chest_xray/chest_xray/train/NORMAL'  # استبدل هذا بمسار مجلد الصور الخاص بك\n",
    "images = load_images_from_folder(folder_path)"
   ]
  },
  {
   "cell_type": "code",
   "execution_count": 9,
   "id": "15cca411",
   "metadata": {},
   "outputs": [],
   "source": [
    "# تطبيق Augmentation\n",
    "augmented_images = augment_images(images)"
   ]
  },
  {
   "cell_type": "code",
   "execution_count": 11,
   "id": "824582a8",
   "metadata": {},
   "outputs": [],
   "source": [
    "# حفظ الصور المعززة\n",
    "output_folder = 'F:/PROJECT/Augmentation1/NORMAL'  # استبدل هذا بمسار لحفظ الصور المعززة\n",
    "for i, img in enumerate(augmented_images):\n",
    "    cv2.imwrite(os.path.join(output_folder, f'augmented_{i}.jpg'), img)"
   ]
  },
  {
   "cell_type": "code",
   "execution_count": 13,
   "id": "1a56a5b9",
   "metadata": {},
   "outputs": [
    {
     "name": "stdout",
     "output_type": "stream",
     "text": [
      "تم حفظ 1341 صورة جديدة في F:/PROJECT/Augmentation1/NORMAL\n"
     ]
    }
   ],
   "source": [
    "print(f\"تم حفظ {len(augmented_images)} صورة جديدة في {output_folder}\")"
   ]
  },
  {
   "cell_type": "code",
   "execution_count": null,
   "id": "d7176726",
   "metadata": {},
   "outputs": [],
   "source": []
  }
 ],
 "metadata": {
  "kernelspec": {
   "display_name": "Python [conda env:base] *",
   "language": "python",
   "name": "conda-base-py"
  },
  "language_info": {
   "codemirror_mode": {
    "name": "ipython",
    "version": 3
   },
   "file_extension": ".py",
   "mimetype": "text/x-python",
   "name": "python",
   "nbconvert_exporter": "python",
   "pygments_lexer": "ipython3",
   "version": "3.12.7"
  }
 },
 "nbformat": 4,
 "nbformat_minor": 5
}
